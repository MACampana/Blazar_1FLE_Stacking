{
 "cells": [
  {
   "cell_type": "code",
   "execution_count": 1,
   "metadata": {},
   "outputs": [],
   "source": [
    "#Comparing Sources in a few different FermiLAT Catalogs"
   ]
  },
  {
   "cell_type": "code",
   "execution_count": 1,
   "metadata": {},
   "outputs": [],
   "source": [
    "import astropy.io.fits as fits\n",
    "import astropy as ap\n",
    "import pandas as pd\n",
    "import numpy as np\n",
    "import matplotlib.pyplot as plt\n",
    "import matplotlib_venn as mpv"
   ]
  },
  {
   "cell_type": "code",
   "execution_count": 2,
   "metadata": {},
   "outputs": [],
   "source": [
    "#Open fits files\n",
    "fle1 = fits.open('./1fle.fits')\n",
    "fhl3 = fits.open('./3fhl.fit')\n",
    "fgl3 = fits.open('./3fgl.fit')"
   ]
  },
  {
   "cell_type": "code",
   "execution_count": 3,
   "metadata": {},
   "outputs": [],
   "source": [
    "#fle1.info()\n",
    "#fhl3.info()\n",
    "#fgl3.info()"
   ]
  },
  {
   "cell_type": "code",
   "execution_count": 4,
   "metadata": {},
   "outputs": [],
   "source": [
    "#Get catalogs\n",
    "catList_1fle = fle1[1]\n",
    "catList_3fhl = fhl3[1]\n",
    "catList_3fgl = fgl3[1]"
   ]
  },
  {
   "cell_type": "code",
   "execution_count": 5,
   "metadata": {},
   "outputs": [],
   "source": [
    "#print(catList_1fle.columns[:])\n",
    "#print(catList_3fhl.columns[:])\n",
    "#print(catList_3fgl.columns[:])"
   ]
  },
  {
   "cell_type": "code",
   "execution_count": 6,
   "metadata": {},
   "outputs": [],
   "source": [
    "#Get important data columns into arrays\n",
    "data_1fle = catList_1fle.data\n",
    "name_1fle = np.array(data_1fle.field('Name'))\n",
    "name3fgl_1fle = np.array(data_1fle.field('Assoc3FGL'))\n",
    "class_1fle = np.array(data_1fle.field('Class1'))\n",
    "flux30_100_1fle = np.array(data_1fle.field('EF30-100'))\n",
    "ph_flux30_100_1fle = np.array(data_1fle.field('F30-100'))\n",
    "\n",
    "data_3fgl = catList_3fgl.data\n",
    "name_3fgl = np.array(data_3fgl.field('Source_Name'))\n",
    "class_3fgl = np.array(data_3fgl.field('CLASS1'))\n",
    "name2fgl_3fgl = np.array(data_3fgl.field('2FGL_Name'))"
   ]
  },
  {
   "cell_type": "code",
   "execution_count": 7,
   "metadata": {},
   "outputs": [],
   "source": [
    "#Make dataframes with relevant data columns\n",
    "\n",
    "df_3fgl = pd.DataFrame(name_3fgl)\n",
    "df_3fgl.columns = ['Name_3FGL']\n",
    "df_3fgl['Class_3FGL'] = class_3fgl\n",
    "df_3fgl['Name_2FGL'] = name2fgl_3fgl\n",
    "fgl3.close()"
   ]
  },
  {
   "cell_type": "code",
   "execution_count": 8,
   "metadata": {},
   "outputs": [],
   "source": [
    "#replace non 3fgl associations with separate values for 1fle\n",
    "#This is to avoid merging dataframes on NaN values\n",
    "for i in range(len(name3fgl_1fle)):\n",
    "    if '3FGL' not in name3fgl_1fle[i]:\n",
    "        name3fgl_1fle[i] = False\n",
    "        #print(name3fgl_3fhl[i])\n",
    "        \n",
    "df_1fle = pd.DataFrame(name_1fle)\n",
    "df_1fle.columns = ['Name_1FLE']\n",
    "df_1fle['Class_1FLE'] = class_1fle\n",
    "df_1fle['Name_3FGL'] = name3fgl_1fle\n",
    "df_1fle['MeVFlux_1FLE'] = flux30_100_1fle\n",
    "df_1fle['MeVPhoFlux_1FLE'] = ph_flux30_100_1fle\n",
    "fle1.close()"
   ]
  },
  {
   "cell_type": "code",
   "execution_count": null,
   "metadata": {},
   "outputs": [],
   "source": [
    "\n",
    "\n",
    "#----------------------------\n",
    "#COMPARISON WITH 3FHL CATALOG\n",
    "#----------------------------\n",
    "\n"
   ]
  },
  {
   "cell_type": "code",
   "execution_count": null,
   "metadata": {},
   "outputs": [],
   "source": [
    "print('Doing 3FHL Comparison...')"
   ]
  },
  {
   "cell_type": "code",
   "execution_count": 10,
   "metadata": {},
   "outputs": [],
   "source": [
    "data_3fhl = catList_3fhl.data\n",
    "name_3fhl = np.array(data_3fhl.field('Source_Name'))\n",
    "name3fgl_3fhl = np.array(data_3fhl.field('ASSOC_GAM'))\n",
    "class_3fhl = np.array(data_3fhl.field('CLASS'))\n",
    "fluxTotal_3fhl = np.array(data_3fhl.field('Energy_Flux')).byteswap().newbyteorder() #erg/cm^2/s\n",
    "\n",
    "ph_fluxTotal_3fhl = np.array(data_3fhl.field('Flux')) #/cm^2/s\n",
    "pivE_3fhl = np.array(data_3fhl.field('Pivot_Energy')) #GeV\n",
    "specI_3fhl = np.array(data_3fhl.field('Spectral_Index')) \n",
    "fluxD_3fhl = np.array(data_3fhl.field('Flux_Density')) #/cm^2/GeV/s\n",
    "specType_3fhl = np.array(data_3fhl.field('SpectrumType')) \n",
    "\n",
    "#replace non 3fgl associations with separate values for 3fhl\n",
    "#This is to avoid merging dataframes on NaN values\n",
    "\n",
    "for i in range(len(name3fgl_3fhl)):\n",
    "    if '3FGL' not in name3fgl_3fhl[i]:\n",
    "        name3fgl_3fhl[i] = None\n",
    "        #print(name3fgl_3fhl[i])"
   ]
  },
  {
   "cell_type": "code",
   "execution_count": 11,
   "metadata": {},
   "outputs": [],
   "source": [
    "df_3fhl = pd.DataFrame(name_3fhl)\n",
    "df_3fhl.columns = ['Name_3FHL']\n",
    "df_3fhl['Class_3FHL'] = class_3fhl\n",
    "df_3fhl['Name_3FGL'] = name3fgl_3fhl\n",
    "df_3fhl['IntFlux_10Gto1T'] = fluxTotal_3fhl\n",
    "df_3fhl['IntPhoFlux_10Gto1T'] = ph_fluxTotal_3fhl\n",
    "fhl3.close()"
   ]
  },
  {
   "cell_type": "code",
   "execution_count": 33,
   "metadata": {},
   "outputs": [
    {
     "name": "stdout",
     "output_type": "stream",
     "text": [
      "3.490008e-12 4.323026e-11 28.423996 1.7818612 5.425346e-13 PowerLaw   \n"
     ]
    }
   ],
   "source": [
    "print(fluxTotal_3fhl[1], ph_fluxTotal_3fhl[1], pivE_3fhl[1], specI_3fhl[1], fluxD_3fhl[1], specType_3fhl[1])"
   ]
  },
  {
   "cell_type": "code",
   "execution_count": 31,
   "metadata": {},
   "outputs": [
    {
     "data": {
      "text/plain": [
       "-3.547377410567373e-10"
      ]
     },
     "execution_count": 31,
     "metadata": {},
     "output_type": "execute_result"
    }
   ],
   "source": [
    "ph_fluxTotal_3fhl[1] * np.log(100) * -specI_3fhl[1]"
   ]
  },
  {
   "cell_type": "code",
   "execution_count": 22,
   "metadata": {},
   "outputs": [
    {
     "name": "stdout",
     "output_type": "stream",
     "text": [
      "1.968697177452339e-12 erg / (cm2 s)\n"
     ]
    }
   ],
   "source": [
    "u = ap.units\n",
    "w = 4.362e-17 * u.m\n",
    "a = 4.323026e-11 * (u.photon / u.cm**2 / u.s)\n",
    "b = a.to(u.erg / u.cm**2 / u.s, u.spectral_density(w))\n",
    "print(b)"
   ]
  },
  {
   "cell_type": "code",
   "execution_count": null,
   "metadata": {},
   "outputs": [],
   "source": [
    "#Merge 1fle and 3fhl on shared 3fgl names\n",
    "\n",
    "df_1fle_3fhl = pd.merge(df_3fhl, df_1fle, on='Name_3FGL', how='inner')\n",
    "\n",
    "overlap_class_list = np.array(df_1fle_3fhl['Class_1FLE'])\n",
    "unique, counts = np.unique(overlap_class_list, return_counts=True)\n",
    "overlap_class_dict = dict(zip(unique, counts))\n",
    "print('The following are the number of each class that is included in the overlapped sources.')\n",
    "print(overlap_class_dict)"
   ]
  },
  {
   "cell_type": "code",
   "execution_count": null,
   "metadata": {},
   "outputs": [],
   "source": [
    "print('The 3FHL Catalog seems to have two double counted sources--ones that share a 3FGL association.')\n",
    "print('These sources are not double counted in the 1FLE catalog, but will be in this comparison.')\n",
    "print(df_1fle_3fhl.loc[(df_1fle_3fhl.loc[:,'Name_3FGL'] == '3FGL J1801.3-2326e') | (df_1fle_3fhl.loc[:,'Name_3FGL'] == '3FGL J1633.0-4746e')])"
   ]
  },
  {
   "cell_type": "code",
   "execution_count": null,
   "metadata": {},
   "outputs": [],
   "source": [
    "#Get and plot integral fluxes of the overlapped sources\n",
    "#And compare to hist of full 3fhl source fluxes\n",
    "\n",
    "flux_overlap132 = df_1fle_3fhl['IntFlux_10Gto1T'].to_numpy()\n",
    "MeVFlux_overlap = df_1fle_3fhl['MeVFlux_1FLE'].to_numpy()\n",
    "print(np.min(flux_overlap132), np.max(flux_overlap132))\n",
    "print(np.min(fluxTotal_3fhl), np.max(fluxTotal_3fhl))"
   ]
  },
  {
   "cell_type": "code",
   "execution_count": null,
   "metadata": {},
   "outputs": [],
   "source": [
    "#HE Histogram\n",
    "fig, ax1 = plt.subplots(facecolor='w', figsize=(8,6))\n",
    "\n",
    "logbins = np.logspace(np.log10(1.0e-13),np.log10(1.0e-9), 25)\n",
    "ax1.hist(fluxTotal_3fhl, bins=logbins, alpha=1, color='r', label='3FHL', histtype='step', linestyle='-')\n",
    "ax1.hist(flux_overlap132, bins=logbins, alpha=1, color='r', label='Shared', histtype='step', linestyle='--')\n",
    "\n",
    "ax1.set_xscale('log')\n",
    "ax1.set_yscale('log')\n",
    "ax1.set_ylabel('Counts')\n",
    "ax1.set_xlabel('Integrated Flux (10GeV-1TeV) [erg/cm^2/s]', color='r')\n",
    "ax1.tick_params(axis='x', labelcolor='r')\n",
    "\n",
    "#ax2 = ax1.twiny()\n",
    "\n",
    "#logbins = np.logspace(np.log10(6.0e-8),np.log10(1.0e-4), 25)\n",
    "#ax2.hist(flux30_100_1fle, bins=logbins, alpha=1, color='b', label='1FLE', histtype='step', linestyle='-')\n",
    "\n",
    "#ax2.set_xscale('log')\n",
    "#ax2.set_yscale('log')\n",
    "#ax2.set_ylabel('Counts')\n",
    "#ax2.set_xlabel('Integrated Photon Flux (30-100 MeV) [1/cm^2/s]', color='b')\n",
    "#ax2.tick_params(axis='x', labelcolor='b')\n",
    "\n",
    "plt.legend(loc='best')\n",
    "plt.savefig('./plots/HE_FluxPDF_3FHL_wOverlap.png')\n",
    "plt.close()\n"
   ]
  },
  {
   "cell_type": "code",
   "execution_count": null,
   "metadata": {},
   "outputs": [],
   "source": [
    "#Flux weight scatter\n",
    "fig, ax = plt.subplots(facecolor='w', figsize=(6,6))\n",
    "ax.scatter(MeVFlux_overlap/np.sum(flux30_100_1fle), flux_overlap132/np.sum(fluxTotal_3fhl), marker='+', color='purple')\n",
    "ax.set_xlabel('1FLE Normalized Flux (30-100 MeV)', color='b')\n",
    "ax.set_ylabel('3FHL Normalized Flux (10 GeV-100 TeV)', color='r')\n",
    "#plt.xlim(-0.001,.2)\n",
    "#plt.ylim(-0.001,.2)\n",
    "\n",
    "lim = .00001, 1\n",
    "ax.plot(lim, lim, 'k--', zorder=-10)\n",
    "ax.set(xlim=lim, ylim=lim, aspect='equal')\n",
    "\n",
    "ax.set_yscale('log')\n",
    "ax.set_xscale('log')\n",
    "\n",
    "ax.set_title('Normalized Fluxes of 1FLE/3FHL Shared Sources')\n",
    "plt.savefig('./plots/NormFlux_OverlapComparison_3FHL.png')\n",
    "plt.close()\n"
   ]
  },
  {
   "cell_type": "code",
   "execution_count": null,
   "metadata": {},
   "outputs": [],
   "source": [
    "#Venn Diagram\n",
    "plt.figure(facecolor='w', figsize=(6,6))\n",
    "plt.title('3FGL Associated Sources')\n",
    "mpv.venn2([set(name3fgl_1fle),set(name3fgl_3fhl)], set_labels=('1FLE', '3FHL'), set_colors=('b','r'))\n",
    "plt.savefig('./plots/VennOverlap_3FHL.png')\n",
    "plt.close()"
   ]
  },
  {
   "cell_type": "code",
   "execution_count": null,
   "metadata": {},
   "outputs": [],
   "source": [
    "print('Done 3FHL Comparison...')"
   ]
  },
  {
   "cell_type": "code",
   "execution_count": null,
   "metadata": {},
   "outputs": [],
   "source": [
    "\n",
    "\n",
    "#----------------------------\n",
    "#COMPARISON WITH 2LAC CATALOG\n",
    "#----------------------------\n",
    "\n"
   ]
  },
  {
   "cell_type": "code",
   "execution_count": null,
   "metadata": {},
   "outputs": [],
   "source": [
    "print('Doing 2LAC Comparison...')"
   ]
  },
  {
   "cell_type": "code",
   "execution_count": 42,
   "metadata": {},
   "outputs": [],
   "source": [
    "#Get 2FGL catalog that Thorsten used for 2LAC E Fluxes\n",
    "thorst = fits.open('./fermi_2year_ps_catalogue_official.fits')\n",
    "catList_thorst = thorst[1]\n",
    "data_thorst = catList_thorst.data\n",
    "name_thorst = np.array(data_thorst.field('Source_Name'))\n",
    "EFlux_thorst = np.array(data_thorst.field('Energy_Flux100')).byteswap().newbyteorder()\n"
   ]
  },
  {
   "cell_type": "code",
   "execution_count": 44,
   "metadata": {},
   "outputs": [],
   "source": [
    "#Make into DF\n",
    "df_2fgl = pd.DataFrame(name_thorst)\n",
    "df_2fgl.columns = ['Name_2FGL']\n",
    "df_2fgl['GeVFlux_2FGL'] = EFlux_thorst\n",
    "thorst.close()\n"
   ]
  },
  {
   "cell_type": "code",
   "execution_count": 45,
   "metadata": {},
   "outputs": [],
   "source": [
    "#Read 2LAC into Dataframe\n",
    "import csv\n",
    "df_2lac = pd.read_table('./2lac.txt', sep='|')\n"
   ]
  },
  {
   "cell_type": "code",
   "execution_count": 46,
   "metadata": {},
   "outputs": [],
   "source": [
    "#Rename Columns\n",
    "df_2lac.columns = [\"id\",\"Name_2FGL\",\"RA\",\"DEC\",\"THETA\",\"Class_2LAC\", \"Redshift\", \"SED\", \"GeVPhoFlux_2LAC\", \"Spectral_Ind\"]\n",
    "\n"
   ]
  },
  {
   "cell_type": "code",
   "execution_count": 47,
   "metadata": {},
   "outputs": [],
   "source": [
    "#Get rid of whitespace so naming conventions match\n",
    "df_2lac['Name_2FGL'] = df_2lac['Name_2FGL'].apply(lambda x: x.replace(' ',''))\n",
    "df_2fgl['Name_2FGL'] = df_2fgl['Name_2FGL'].apply(lambda x: x.replace(' ',''))\n",
    "df_3fgl['Name_2FGL'] = df_3fgl['Name_2FGL'].apply(lambda x: x.replace(' ',''))\n"
   ]
  },
  {
   "cell_type": "code",
   "execution_count": 49,
   "metadata": {},
   "outputs": [],
   "source": [
    "#Keeping only the columns of current interest\n",
    "df_2lac = df_2lac[['Name_2FGL', 'Class_2LAC']]\n",
    "\n",
    "#Change dtype of GeVFlux to float and set the three values with fluxes as max limits to that limit\n",
    "#df_2lac['GeVPhoFlux_2LAC'] = df_2lac['GeVPhoFlux_2LAC'].apply(lambda x: float(x.replace('<','').strip()))\n"
   ]
  },
  {
   "cell_type": "code",
   "execution_count": 50,
   "metadata": {},
   "outputs": [],
   "source": [
    "#First, merge 1fle and 3fgl on shared 3fgl name\n",
    "df_1fle_3fgl = pd.merge(df_3fgl, df_1fle, on='Name_3FGL', how='inner')\n"
   ]
  },
  {
   "cell_type": "code",
   "execution_count": 51,
   "metadata": {},
   "outputs": [],
   "source": [
    "#Now merge 2LAC and 2FGL (thorst)\n",
    "df_2lac_2fgl = pd.merge(df_2lac, df_2fgl, on='Name_2FGL', how='inner')\n"
   ]
  },
  {
   "cell_type": "code",
   "execution_count": 52,
   "metadata": {},
   "outputs": [],
   "source": [
    "#Then, merge the two merged DFs\n",
    "df_1fle_3fgl_2lac_2fgl = pd.merge(df_1fle_3fgl, df_2lac_2fgl, on='Name_2FGL', how='inner')\n"
   ]
  },
  {
   "cell_type": "code",
   "execution_count": 53,
   "metadata": {},
   "outputs": [],
   "source": [
    "#Keep only columns of current interest\n",
    "df_1fle_3fgl_2lac_2fgl = df_1fle_3fgl_2lac_2fgl[['Name_3FGL', 'Name_2FGL', 'Name_1FLE', 'Class_1FLE', 'GeVFlux_2FGL', 'MeVFlux_1FLE']]\n",
    "\n",
    "#134 overlapped sources (see below about duplicate)\n"
   ]
  },
  {
   "cell_type": "code",
   "execution_count": 54,
   "metadata": {},
   "outputs": [
    {
     "name": "stdout",
     "output_type": "stream",
     "text": [
      "The following are the number of each class that is included in the overlapped sources.\n",
      "{'bcu  ': 8, 'bll  ': 29, 'fsrq ': 93, 'nlsy1': 1, 'rdg  ': 2, 'ssrq ': 1}\n"
     ]
    }
   ],
   "source": [
    "#Get overlapped classes\n",
    "overlap_class_list = np.array(df_1fle_3fgl_2lac_2fgl['Class_1FLE'])\n",
    "unique, counts = np.unique(overlap_class_list, return_counts=True)\n",
    "overlap_class_dict = dict(zip(unique, counts))\n",
    "print('The following are the number of each class that is included in the overlapped sources.')\n",
    "print(overlap_class_dict)\n",
    "#29 BLL, 93 FSRQ overlap --> 122 Blazars\n"
   ]
  },
  {
   "cell_type": "code",
   "execution_count": 55,
   "metadata": {},
   "outputs": [
    {
     "name": "stdout",
     "output_type": "stream",
     "text": [
      "Duplicate Entries:\n",
      "2FGLJ1153.2+4935  |  2\n"
     ]
    }
   ],
   "source": [
    "#Check for multiple occurrences of counterparts\n",
    "print('Duplicate Entries:')\n",
    "ns, cs = np.unique(df_1fle_3fgl_2lac_2fgl['Name_2FGL'], return_counts=True)\n",
    "\n",
    "rep_dict = dict(zip(ns,cs))\n",
    "\n",
    "for k in rep_dict.keys():\n",
    "    if rep_dict[k] != 1:\n",
    "        print(k,' | ', rep_dict[k])"
   ]
  },
  {
   "cell_type": "code",
   "execution_count": 57,
   "metadata": {},
   "outputs": [
    {
     "name": "stdout",
     "output_type": "stream",
     "text": [
      "This merging of dataframes created a duplicate entry for a source that exists once in 1FLE and 3FGL, \n",
      " but twice in 2LAC... \n",
      " (i.e., there is a pair of sources in 2LAC that share a single 2FGL source which is shared by 1FLE (via 3FGL)):\n",
      "             Name_3FGL         Name_2FGL        Name_1FLE Class_1FLE  \\\n",
      "66  3FGL J1153.4+4932   2FGLJ1153.2+4935  1FLE J1147+4836      fsrq    \n",
      "67  3FGL J1153.4+4932   2FGLJ1153.2+4935  1FLE J1147+4836      fsrq    \n",
      "\n",
      "    GeVFlux_2FGL  MeVFlux_1FLE  \n",
      "66  1.163305e-11  7.797230e-12  \n",
      "67  1.163305e-11  7.797230e-12  \n"
     ]
    }
   ],
   "source": [
    "print('This merging of dataframes created a duplicate entry for a source that exists once in 1FLE and 3FGL, \\n but twice in 2LAC... \\n (i.e., there is a pair of sources in 2LAC that share a single 2FGL source which is shared by 1FLE (via 3FGL)):')\n",
    "print(df_1fle_3fgl_2lac_2fgl.loc[((df_1fle_3fgl_2lac_2fgl.loc[:,'Name_2FGL'] == '2FGLJ1153.2+4935'))])\n",
    "#29 BLL, 93 (-1 = 92 from duplicate) FSRQ overlap --> 122 (-1 = 121) Blazars\n"
   ]
  },
  {
   "cell_type": "code",
   "execution_count": 58,
   "metadata": {},
   "outputs": [
    {
     "data": {
      "image/png": "[encoded data removed]",
      "text/plain": [
       "<Figure size 432x432 with 1 Axes>"
      ]
     },
     "metadata": {},
     "output_type": "display_data"
    }
   ],
   "source": [
    "#Overlap Venn Diagram\n",
    "plt.figure(facecolor='w', figsize=(6,6))\n",
    "plt.title('2FGL Associated Sources')\n",
    "mpv.venn2([set(df_1fle_3fgl['Name_2FGL']),set(df_2lac['Name_2FGL'])], set_labels=('1FLE', '2LAC'), set_colors=('b','g'))\n",
    "#plt.savefig('./plots/VennOverlap_2LAC.png')\n",
    "plt.show()\n",
    "plt.close()\n"
   ]
  },
  {
   "cell_type": "code",
   "execution_count": 66,
   "metadata": {},
   "outputs": [
    {
     "data": {
      "image/png": "[encoded data removed]",
      "text/plain": [
       "<Figure size 432x432 with 1 Axes>"
      ]
     },
     "metadata": {},
     "output_type": "display_data"
    }
   ],
   "source": [
    "#Flux weight scatter\n",
    "fig, ax = plt.subplots(facecolor='w', figsize=(6,6))\n",
    "ax.scatter(df_1fle_3fgl_2lac_2fgl['MeVFlux_1FLE']/np.sum(flux30_100_1fle), df_1fle_3fgl_2lac_2fgl['GeVFlux_2FGL']/np.sum(df_2fgl['GeVFlux_2FGL']), marker='+', color='cadetblue')\n",
    "ax.set_xlabel('1FLE Normalized Energy Flux (30-100 MeV)', color='b')\n",
    "ax.set_ylabel('2LAC Normalized Energy Flux (.1-100 GeV)', color='g')\n",
    "#plt.xlim(-0.001,.2)\n",
    "#plt.ylim(-0.001,.2)\n",
    "\n",
    "lim = .00004, .04\n",
    "ax.plot(lim, lim, 'k--', zorder=-10)\n",
    "ax.set(xlim=lim, ylim=lim, aspect='equal')\n",
    "\n",
    "ax.set_yscale('log')\n",
    "ax.set_xscale('log')\n",
    "\n",
    "ax.set_title('Normalized Energy Fluxes of 1FLE/2LAC Shared Sources')\n",
    "plt.savefig('./plots/NormFlux_OverlapComparison_2LAC.png')\n",
    "plt.show()\n",
    "plt.close()"
   ]
  },
  {
   "cell_type": "code",
   "execution_count": 67,
   "metadata": {},
   "outputs": [
    {
     "data": {
      "image/png": "[encoded data removed]",
      "text/plain": [
       "<Figure size 576x432 with 1 Axes>"
      ]
     },
     "metadata": {},
     "output_type": "display_data"
    }
   ],
   "source": [
    "#2LAC Flux Hist\n",
    "fig, ax1 = plt.subplots(facecolor='w', figsize=(8,6))\n",
    "\n",
    "logbins = np.logspace(np.log10(1.0e-12),np.log10(1.0e-8), 25)\n",
    "ax1.hist(df_2fgl['GeVFlux_2FGL'], bins=logbins, alpha=1, color='g', label='2LAC', histtype='step', linestyle='-')\n",
    "ax1.hist(df_1fle_3fgl_2lac_2fgl['GeVFlux_2FGL'], bins=logbins, alpha=1, color='g', label='Shared', histtype='step', linestyle='--')\n",
    "\n",
    "ax1.set_xscale('log')\n",
    "ax1.set_yscale('log')\n",
    "ax1.set_ylabel('Counts')\n",
    "ax1.set_xlabel('Energy Flux (.1-100GeV) [erg/cm^2/s]', color='g')\n",
    "ax1.tick_params(axis='x', labelcolor='g')\n",
    "\n",
    "plt.legend()\n",
    "plt.savefig('./plots/HE_FluxPDF_2LAC_wOverlap.png')\n",
    "plt.show()"
   ]
  },
  {
   "cell_type": "code",
   "execution_count": null,
   "metadata": {},
   "outputs": [],
   "source": []
  }
 ],
 "metadata": {
  "kernelspec": {
   "display_name": "Python 3",
   "language": "python",
   "name": "python3"
  },
  "language_info": {
   "codemirror_mode": {
    "name": "ipython",
    "version": 3
   },
   "file_extension": ".py",
   "mimetype": "text/x-python",
   "name": "python",
   "nbconvert_exporter": "python",
   "pygments_lexer": "ipython3",
   "version": "3.6.8"
  }
 },
 "nbformat": 4,
 "nbformat_minor": 4
}
