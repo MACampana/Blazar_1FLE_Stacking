{
 "cells": [
  {
   "cell_type": "code",
   "execution_count": 198,
   "metadata": {},
   "outputs": [],
   "source": [
    "#Comparing Sources in a few different FermiLAT Catalogs"
   ]
  },
  {
   "cell_type": "code",
   "execution_count": 199,
   "metadata": {},
   "outputs": [],
   "source": [
    "import astropy.io.fits as fits\n",
    "import pandas as pd\n",
    "import numpy as np\n",
    "import matplotlib.pyplot as plt\n",
    "import matplotlib_venn as mpv"
   ]
  },
  {
   "cell_type": "code",
   "execution_count": 200,
   "metadata": {},
   "outputs": [],
   "source": [
    "#Open fits files\n",
    "fle1 = fits.open('./1fle.fits')\n",
    "fhl3 = fits.open('./3fhl.fit')\n",
    "fgl3 = fits.open('./3fgl.fit')"
   ]
  },
  {
   "cell_type": "code",
   "execution_count": 201,
   "metadata": {},
   "outputs": [],
   "source": [
    "#fle1.info()\n",
    "#fhl3.info()\n",
    "#fgl3.info()"
   ]
  },
  {
   "cell_type": "code",
   "execution_count": 202,
   "metadata": {},
   "outputs": [],
   "source": [
    "#Get catalogs\n",
    "catList_1fle = fle1[1]\n",
    "catList_3fhl = fhl3[1]\n",
    "catList_3fgl = fgl3[1]"
   ]
  },
  {
   "cell_type": "code",
   "execution_count": 203,
   "metadata": {},
   "outputs": [],
   "source": [
    "#print(catList_1fle.columns[:])\n",
    "#print(catList_3fhl.columns[:])\n",
    "#print(catList_3fgl.columns[:])"
   ]
  },
  {
   "cell_type": "code",
   "execution_count": 204,
   "metadata": {},
   "outputs": [],
   "source": [
    "#Get important data columns into arrays\n",
    "data_1fle = catList_1fle.data\n",
    "name_1fle = np.array(data_1fle.field('Name'))\n",
    "name3fgl_1fle = np.array(data_1fle.field('Assoc3FGL'))\n",
    "class_1fle = np.array(data_1fle.field('Class1'))\n",
    "flux30_100_1fle = np.array(data_1fle.field('EF30-100'))\n",
    "\n",
    "data_3fgl = catList_3fgl.data\n",
    "name_3fgl = np.array(data_3fgl.field('Source_Name'))\n",
    "class_3fgl = np.array(data_3fgl.field('CLASS1'))\n",
    "name2fgl_3fgl = np.array(data_3fgl.field('2FGL_Name'))"
   ]
  },
  {
   "cell_type": "code",
   "execution_count": 205,
   "metadata": {},
   "outputs": [],
   "source": [
    "#Make dataframes with relevant data columns\n",
    "\n",
    "df_3fgl = pd.DataFrame(name_3fgl)\n",
    "df_3fgl.columns = ['Name_3FGL']\n",
    "df_3fgl['Class_3FGL'] = class_3fgl\n",
    "df_3fgl['Name_2FGL'] = name2fgl_3fgl\n",
    "fgl3.close()"
   ]
  },
  {
   "cell_type": "code",
   "execution_count": 206,
   "metadata": {},
   "outputs": [],
   "source": [
    "#replace non 3fgl associations with separate values for 1fle\n",
    "#This is to avoid merging dataframes on NaN values\n",
    "for i in range(len(name3fgl_1fle)):\n",
    "    if '3FGL' not in name3fgl_1fle[i]:\n",
    "        name3fgl_1fle[i] = False\n",
    "        #print(name3fgl_3fhl[i])\n",
    "        \n",
    "df_1fle = pd.DataFrame(name_1fle)\n",
    "df_1fle.columns = ['Name_1FLE']\n",
    "df_1fle['Class_1FLE'] = class_1fle\n",
    "df_1fle['Name_3FGL'] = name3fgl_1fle\n",
    "df_1fle['MeVFlux_1FLE'] = flux30_100_1fle\n",
    "fle1.close()"
   ]
  },
  {
   "cell_type": "code",
   "execution_count": 207,
   "metadata": {},
   "outputs": [],
   "source": [
    "\n",
    "\n",
    "#----------------------------\n",
    "#COMPARISON WITH 3FHL CATALOG\n",
    "#----------------------------\n",
    "\n"
   ]
  },
  {
   "cell_type": "code",
   "execution_count": 208,
   "metadata": {},
   "outputs": [
    {
     "name": "stdout",
     "output_type": "stream",
     "text": [
      "Doing 3FHL Comparison...\n"
     ]
    }
   ],
   "source": [
    "print('Doing 3FHL Comparison...')"
   ]
  },
  {
   "cell_type": "code",
   "execution_count": 209,
   "metadata": {},
   "outputs": [],
   "source": [
    "data_3fhl = catList_3fhl.data\n",
    "name_3fhl = np.array(data_3fhl.field('Source_Name'))\n",
    "name3fgl_3fhl = np.array(data_3fhl.field('ASSOC_GAM'))\n",
    "class_3fhl = np.array(data_3fhl.field('CLASS'))\n",
    "fluxTotal_3fhl = np.array(data_3fhl.field('Energy_Flux')).byteswap().newbyteorder()\n",
    "\n",
    "#replace non 3fgl associations with separate values for 3fhl\n",
    "#This is to avoid merging dataframes on NaN values\n",
    "\n",
    "for i in range(len(name3fgl_3fhl)):\n",
    "    if '3FGL' not in name3fgl_3fhl[i]:\n",
    "        name3fgl_3fhl[i] = None\n",
    "        #print(name3fgl_3fhl[i])"
   ]
  },
  {
   "cell_type": "code",
   "execution_count": 210,
   "metadata": {},
   "outputs": [],
   "source": [
    "df_3fhl = pd.DataFrame(name_3fhl)\n",
    "df_3fhl.columns = ['Name_3FHL']\n",
    "df_3fhl['Class_3FHL'] = class_3fhl\n",
    "df_3fhl['Name_3FGL'] = name3fgl_3fhl\n",
    "df_3fhl['IntFlux_10Gto1T'] = fluxTotal_3fhl\n",
    "fhl3.close()"
   ]
  },
  {
   "cell_type": "code",
   "execution_count": 211,
   "metadata": {},
   "outputs": [
    {
     "name": "stdout",
     "output_type": "stream",
     "text": [
      "The following are the number of each class that is included in the overlapped sources.\n",
      "{'     ': 2, 'bcu  ': 8, 'bll  ': 28, 'fsrq ': 73, 'gal  ': 1, 'hmb  ': 1, 'psr  ': 11, 'pwn  ': 2, 'rdg  ': 2, 'snr  ': 3, 'ssrq ': 1}\n"
     ]
    }
   ],
   "source": [
    "#Merge 1fle and 3fhl on shared 3fgl names\n",
    "\n",
    "df_1fle_3fhl = pd.merge(df_3fhl, df_1fle, on='Name_3FGL', how='inner')\n",
    "\n",
    "overlap_class_list = np.array(df_1fle_3fhl['Class_1FLE'])\n",
    "unique, counts = np.unique(overlap_class_list, return_counts=True)\n",
    "overlap_class_dict = dict(zip(unique, counts))\n",
    "print('The following are the number of each class that is included in the overlapped sources.')\n",
    "print(overlap_class_dict)"
   ]
  },
  {
   "cell_type": "code",
   "execution_count": 212,
   "metadata": {},
   "outputs": [
    {
     "name": "stdout",
     "output_type": "stream",
     "text": [
      "The 3FHL Catalog seems to have two double counted sources--ones that share a 3FGL association.\n",
      "These sources are not double counted in the 1FLE catalog, but will be in this comparison.\n",
      "             Name_3FHL Class_3FHL           Name_3FGL  IntFlux_10Gto1T  \\\n",
      "88  3FHL J1631.6-4756e    pwn      3FGL J1633.0-4746e     3.981123e-11   \n",
      "89  3FHL J1633.0-4746e    spp      3FGL J1633.0-4746e     1.041522e-10   \n",
      "97  3FHL J1800.5-2343e    SNR      3FGL J1801.3-2326e     1.146437e-10   \n",
      "98  3FHL J1801.6-2327     snr      3FGL J1801.3-2326e     3.371935e-12   \n",
      "\n",
      "          Name_1FLE Class_1FLE  MeVFlux_1FLE  \n",
      "88  1FLE J1639-4655      pwn    3.094480e-10  \n",
      "89  1FLE J1639-4655      pwn    3.094480e-10  \n",
      "97  1FLE J1803-2241      snr    2.358590e-10  \n",
      "98  1FLE J1803-2241      snr    2.358590e-10  \n"
     ]
    }
   ],
   "source": [
    "print('The 3FHL Catalog seems to have two double counted sources--ones that share a 3FGL association.')\n",
    "print('These sources are not double counted in the 1FLE catalog, but will be in this comparison.')\n",
    "print(df_1fle_3fhl.loc[(df_1fle_3fhl.loc[:,'Name_3FGL'] == '3FGL J1801.3-2326e') | (df_1fle_3fhl.loc[:,'Name_3FGL'] == '3FGL J1633.0-4746e')])"
   ]
  },
  {
   "cell_type": "code",
   "execution_count": 213,
   "metadata": {},
   "outputs": [
    {
     "name": "stdout",
     "output_type": "stream",
     "text": [
      "4.2983819e-13 4.3746623e-10\n",
      "3.5812453e-13 4.914928e-10\n"
     ]
    }
   ],
   "source": [
    "#Get and plot integral fluxes of the overlapped sources\n",
    "#And compare to hist of full 3fhl source fluxes\n",
    "\n",
    "flux_overlap132 = df_1fle_3fhl['IntFlux_10Gto1T'].to_numpy()\n",
    "MeVFlux_overlap = df_1fle_3fhl['MeVFlux_1FLE'].to_numpy()\n",
    "print(np.min(flux_overlap132), np.max(flux_overlap132))\n",
    "print(np.min(fluxTotal_3fhl), np.max(fluxTotal_3fhl))"
   ]
  },
  {
   "cell_type": "code",
   "execution_count": 214,
   "metadata": {},
   "outputs": [],
   "source": [
    "#HE Histogram\n",
    "fig, ax1 = plt.subplots(facecolor='w', figsize=(8,6))\n",
    "\n",
    "logbins = np.logspace(np.log10(1.0e-13),np.log10(1.0e-9), 25)\n",
    "ax1.hist(fluxTotal_3fhl, bins=logbins, alpha=1, color='r', label='3FHL', histtype='step', linestyle='-')\n",
    "ax1.hist(flux_overlap132, bins=logbins, alpha=1, color='r', label='Shared', histtype='step', linestyle='--')\n",
    "\n",
    "ax1.set_xscale('log')\n",
    "ax1.set_yscale('log')\n",
    "ax1.set_ylabel('Counts')\n",
    "ax1.set_xlabel('Integrated Flux (10GeV-1TeV) [erg/cm^2/s]', color='r')\n",
    "ax1.tick_params(axis='x', labelcolor='r')\n",
    "\n",
    "#ax2 = ax1.twiny()\n",
    "\n",
    "#logbins = np.logspace(np.log10(6.0e-8),np.log10(1.0e-4), 25)\n",
    "#ax2.hist(flux30_100_1fle, bins=logbins, alpha=1, color='b', label='1FLE', histtype='step', linestyle='-')\n",
    "\n",
    "#ax2.set_xscale('log')\n",
    "#ax2.set_yscale('log')\n",
    "#ax2.set_ylabel('Counts')\n",
    "#ax2.set_xlabel('Integrated Photon Flux (30-100 MeV) [1/cm^2/s]', color='b')\n",
    "#ax2.tick_params(axis='x', labelcolor='b')\n",
    "\n",
    "plt.legend(loc='best')\n",
    "plt.savefig('./plots/HE_FluxPDF_3FHL_wOverlap.png')\n",
    "plt.close()\n"
   ]
  },
  {
   "cell_type": "code",
   "execution_count": 215,
   "metadata": {},
   "outputs": [],
   "source": [
    "#Flux weight scatter\n",
    "fig, ax = plt.subplots(facecolor='w', figsize=(6,6))\n",
    "ax.scatter(MeVFlux_overlap/np.sum(flux30_100_1fle), flux_overlap132/np.sum(fluxTotal_3fhl), marker='+', color='purple')\n",
    "ax.set_xlabel('1FLE Normalized Flux (30-100 MeV)', color='b')\n",
    "ax.set_ylabel('3FHL Normalized Flux (10 GeV-100 TeV)', color='r')\n",
    "#plt.xlim(-0.001,.2)\n",
    "#plt.ylim(-0.001,.2)\n",
    "\n",
    "lim = .00001, 1\n",
    "ax.plot(lim, lim, 'k--', zorder=-10)\n",
    "ax.set(xlim=lim, ylim=lim, aspect='equal')\n",
    "\n",
    "ax.set_yscale('log')\n",
    "ax.set_xscale('log')\n",
    "\n",
    "ax.set_title('Normalized Fluxes of 1FLE/3FHL Shared Sources')\n",
    "plt.savefig('./plots/NormFlux_OverlapComparison_3FHL.png')\n",
    "plt.close()\n"
   ]
  },
  {
   "cell_type": "code",
   "execution_count": 216,
   "metadata": {},
   "outputs": [],
   "source": [
    "#Venn Diagram\n",
    "plt.figure(facecolor='w', figsize=(6,6))\n",
    "plt.title('3FGL Associated Sources')\n",
    "mpv.venn2([set(name3fgl_1fle),set(name3fgl_3fhl)], set_labels=('1FLE', '3FHL'), set_colors=('b','r'))\n",
    "plt.savefig('./plots/VennOverlap_3FHL.png')\n",
    "plt.close()"
   ]
  },
  {
   "cell_type": "code",
   "execution_count": 217,
   "metadata": {},
   "outputs": [
    {
     "name": "stdout",
     "output_type": "stream",
     "text": [
      "Done 3FHL Comparison...\n"
     ]
    }
   ],
   "source": [
    "print('Done 3FHL Comparison...')"
   ]
  },
  {
   "cell_type": "code",
   "execution_count": 218,
   "metadata": {},
   "outputs": [],
   "source": [
    "\n",
    "\n",
    "#----------------------------\n",
    "#COMPARISON WITH 2LAC CATALOG\n",
    "#----------------------------\n",
    "\n"
   ]
  },
  {
   "cell_type": "code",
   "execution_count": 219,
   "metadata": {},
   "outputs": [
    {
     "name": "stdout",
     "output_type": "stream",
     "text": [
      "Doing 2LAC Comparison...\n"
     ]
    }
   ],
   "source": [
    "print('Doing 2LAC Comparison...')"
   ]
  },
  {
   "cell_type": "code",
   "execution_count": 220,
   "metadata": {},
   "outputs": [],
   "source": [
    "#Read 2LAC into Dataframe\n",
    "import csv\n",
    "df_2lac = pd.read_table('./2lac.txt', sep='|')\n"
   ]
  },
  {
   "cell_type": "code",
   "execution_count": 221,
   "metadata": {},
   "outputs": [],
   "source": [
    "#Rename Columns\n",
    "df_2lac.columns = [\"id\",\"Name_2FGL\",\"RA\",\"DEC\",\"THETA\",\"Class_2LAC\", \"Redshift\", \"SED\", \"GeVFlux_2LAC\", \"Spectral_Ind\"]\n",
    "\n"
   ]
  },
  {
   "cell_type": "code",
   "execution_count": 222,
   "metadata": {},
   "outputs": [],
   "source": [
    "#Get rid of whitespace so naming conventions match\n",
    "df_2lac['Name_2FGL'] = df_2lac['Name_2FGL'].apply(lambda x: x.strip())\n",
    "\n",
    "df_3fgl['Name_2FGL'] = df_3fgl['Name_2FGL'].apply(lambda x: x.replace(' ',''))\n"
   ]
  },
  {
   "cell_type": "code",
   "execution_count": 223,
   "metadata": {},
   "outputs": [],
   "source": [
    "#Keeping only the columns of current interest\n",
    "df_2lac = df_2lac[['Name_2FGL', 'Class_2LAC', 'GeVFlux_2LAC']]\n",
    "\n",
    "#Change dtype of GeVFlux to float and set the three values with fluxes as max limits to that limit\n",
    "df_2lac['GeVFlux_2LAC'] = df_2lac['GeVFlux_2LAC'].apply(lambda x: float(x.replace('<','').strip()))\n"
   ]
  },
  {
   "cell_type": "code",
   "execution_count": 224,
   "metadata": {},
   "outputs": [],
   "source": [
    "#First, merge 1fle and 3fgl on shared 3fgl name\n",
    "df_1fle_3fgl = pd.merge(df_3fgl, df_1fle, on='Name_3FGL', how='inner')\n"
   ]
  },
  {
   "cell_type": "code",
   "execution_count": 225,
   "metadata": {},
   "outputs": [],
   "source": [
    "#Then, merge the first merged DF with 2lac on the shared 2fgl name\n",
    "df_1fle_3fgl_2lac = pd.merge(df_1fle_3fgl, df_2lac, on='Name_2FGL', how='inner')\n"
   ]
  },
  {
   "cell_type": "code",
   "execution_count": 226,
   "metadata": {},
   "outputs": [],
   "source": [
    "#Keep only columns of current interest\n",
    "df_1fle_3fgl_2lac = df_1fle_3fgl_2lac[['Name_3FGL', 'Name_2FGL', 'Name_1FLE', 'Class_1FLE', 'GeVFlux_2LAC', 'MeVFlux_1FLE']]\n",
    "\n",
    "#134 overlapped sources (see below about duplicate)\n"
   ]
  },
  {
   "cell_type": "code",
   "execution_count": 227,
   "metadata": {},
   "outputs": [
    {
     "name": "stdout",
     "output_type": "stream",
     "text": [
      "The following are the number of each class that is included in the overlapped sources.\n",
      "{'bcu  ': 8, 'bll  ': 29, 'fsrq ': 93, 'nlsy1': 1, 'rdg  ': 2, 'ssrq ': 1}\n"
     ]
    }
   ],
   "source": [
    "#Get overlapped classes\n",
    "overlap_class_list = np.array(df_1fle_3fgl_2lac['Class_1FLE'])\n",
    "unique, counts = np.unique(overlap_class_list, return_counts=True)\n",
    "overlap_class_dict = dict(zip(unique, counts))\n",
    "print('The following are the number of each class that is included in the overlapped sources.')\n",
    "print(overlap_class_dict)\n",
    "#29 BLL, 93 FSRQ overlap --> 122 Blazars\n"
   ]
  },
  {
   "cell_type": "code",
   "execution_count": 228,
   "metadata": {},
   "outputs": [
    {
     "name": "stdout",
     "output_type": "stream",
     "text": [
      "Duplicate Entries:\n",
      "2FGLJ1153.2+4935  |  2\n"
     ]
    }
   ],
   "source": [
    "#Check for multiple occurrences of counterparts\n",
    "print('Duplicate Entries:')\n",
    "ns, cs = np.unique(df_1fle_3fgl_2lac['Name_2FGL'], return_counts=True)\n",
    "\n",
    "rep_dict = dict(zip(ns,cs))\n",
    "\n",
    "for k in rep_dict.keys():\n",
    "    if rep_dict[k] != 1:\n",
    "        print(k,' | ', rep_dict[k])"
   ]
  },
  {
   "cell_type": "code",
   "execution_count": 229,
   "metadata": {},
   "outputs": [
    {
     "name": "stdout",
     "output_type": "stream",
     "text": [
      "This merging of dataframes created a duplicate entry for a source that exists once in 1FLE and 3FGL, \n",
      " but twice in 2LAC... \n",
      " (i.e., there is a pair of sources in 2LAC that share a single 2FGL source which is shared by 1FLE (via 3FGL)):\n",
      "             Name_3FGL         Name_2FGL        Name_1FLE Class_1FLE  \\\n",
      "66  3FGL J1153.4+4932   2FGLJ1153.2+4935  1FLE J1147+4836      fsrq    \n",
      "67  3FGL J1153.4+4932   2FGLJ1153.2+4935  1FLE J1147+4836      fsrq    \n",
      "\n",
      "    GeVFlux_2LAC  MeVFlux_1FLE  \n",
      "66  7.660000e-10  7.797230e-12  \n",
      "67  7.660000e-10  7.797230e-12  \n"
     ]
    }
   ],
   "source": [
    "print('This merging of dataframes created a duplicate entry for a source that exists once in 1FLE and 3FGL, \\n but twice in 2LAC... \\n (i.e., there is a pair of sources in 2LAC that share a single 2FGL source which is shared by 1FLE (via 3FGL)):')\n",
    "print(df_1fle_3fgl_2lac.loc[((df_1fle_3fgl_2lac.loc[:,'Name_2FGL'] == '2FGLJ1153.2+4935'))])\n",
    "#29 BLL, 93 (-1 = 92 from duplicate) FSRQ overlap --> 122 (-1 = 121) Blazars\n"
   ]
  },
  {
   "cell_type": "code",
   "execution_count": 230,
   "metadata": {},
   "outputs": [],
   "source": [
    "#Overlap Venn Diagram\n",
    "plt.figure(facecolor='w', figsize=(6,6))\n",
    "plt.title('2FGL Associated Sources')\n",
    "mpv.venn2([set(df_1fle_3fgl['Name_2FGL']),set(df_2lac['Name_2FGL'])], set_labels=('1FLE', '2LAC'), set_colors=('b','g'))\n",
    "plt.savefig('./plots/VennOverlap_2LAC.png')\n",
    "plt.close()\n"
   ]
  },
  {
   "cell_type": "code",
   "execution_count": 231,
   "metadata": {},
   "outputs": [],
   "source": [
    "#Flux weight scatter\n",
    "fig, ax = plt.subplots(facecolor='w', figsize=(6,6))\n",
    "ax.scatter(df_1fle_3fgl_2lac['MeVFlux_1FLE']/np.sum(flux30_100_1fle), df_1fle_3fgl_2lac['GeVFlux_2LAC']/np.sum(df_2lac['GeVFlux_2LAC']), marker='+', color='cadetblue')\n",
    "ax.set_xlabel('1FLE Normalized Flux (30-100 MeV)', color='b')\n",
    "ax.set_ylabel('2LAC Normalized Flux (1-100 GeV)', color='g')\n",
    "#plt.xlim(-0.001,.2)\n",
    "#plt.ylim(-0.001,.2)\n",
    "\n",
    "lim = .0001, .1\n",
    "ax.plot(lim, lim, 'k--', zorder=-10)\n",
    "ax.set(xlim=lim, ylim=lim, aspect='equal')\n",
    "\n",
    "ax.set_yscale('log')\n",
    "ax.set_xscale('log')\n",
    "\n",
    "ax.set_title('Normalized Fluxes of 1FLE/2LAC Shared Sources')\n",
    "plt.savefig('./plots/NormFlux_OverlapComparison_2LAC.png')\n",
    "plt.close()"
   ]
  },
  {
   "cell_type": "code",
   "execution_count": null,
   "metadata": {},
   "outputs": [],
   "source": []
  }
 ],
 "metadata": {
  "kernelspec": {
   "display_name": "Python 3",
   "language": "python",
   "name": "python3"
  },
  "language_info": {
   "codemirror_mode": {
    "name": "ipython",
    "version": 3
   },
   "file_extension": ".py",
   "mimetype": "text/x-python",
   "name": "python",
   "nbconvert_exporter": "python",
   "pygments_lexer": "ipython3",
   "version": "3.6.8"
  }
 },
 "nbformat": 4,
 "nbformat_minor": 4
}
