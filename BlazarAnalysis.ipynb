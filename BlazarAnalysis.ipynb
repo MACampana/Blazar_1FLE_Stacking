{
 "cells": [
  {
   "cell_type": "code",
   "execution_count": 75,
   "metadata": {},
   "outputs": [],
   "source": [
    "import datetime\n",
    "today_date = datetime.datetime.now().strftime(\"%b-%d-%Y_%H-%M-%S\")"
   ]
  },
  {
   "cell_type": "code",
   "execution_count": 1,
   "metadata": {},
   "outputs": [],
   "source": [
    "#Imports\n",
    "import numpy as np\n",
    "import scipy.interpolate as spint\n",
    "import pandas as pd\n",
    "\n",
    "import astropy as ap\n",
    "import astropy.io.fits as fits\n",
    "\n",
    "import csky as cy\n",
    "import histlite as hl\n",
    "import healpy as hp\n",
    "import matplotlib.pyplot as plt\n"
   ]
  },
  {
   "cell_type": "code",
   "execution_count": 80,
   "metadata": {},
   "outputs": [],
   "source": [
    "plt.ioff()"
   ]
  },
  {
   "cell_type": "code",
   "execution_count": 95,
   "metadata": {},
   "outputs": [],
   "source": [
    "#ARGS\n",
    "import argparse\n",
    "parser = argparse.ArgumentParser(description='Perform stacking analysis on 1FLE Blazars with the 10yrPStracks dataset.')\n",
    "#data_save (def None)\n",
    "parser.add_argument('--dat_form', default=None)\n",
    "#gamma (float)\n",
    "parser.add_argument('-g','--gamma', default=2.0)\n",
    "#weighting_scheme ('flux' or 'equal')\n",
    "parser.add_argument('-w', '--weight', default='equal')\n",
    "#plot_flux_pdf (bool)\n",
    "parser.add_argument('-f', '--flux_pdf', action='store_true')\n",
    "#num_trials (int)\n",
    "parser.add_argument('-n', '--trials', default=10000)\n",
    "#seed\n",
    "parser.add_argument('--seed', default=1)\n",
    "#tol (default .01)\n",
    "parser.add_argument('-t', '--tol', default=.01)\n",
    "#n_batches (def 6)\n",
    "parser.add_argument('--batches', default=6)\n",
    "#batch_size (def 500)\n",
    "parser.add_argument('--batch_size', default=500)\n",
    "#n_sig_step (def 5)\n",
    "parser.add_argument('--ns_step', default=5)\n",
    "#first_batch_size (def 50)\n",
    "parser.add_argument('--batch1', default=50)\n",
    "#ref_E (def 100) -> 100 in units of below\n",
    "parser.add_argument('--E0', default=100)\n",
    "#flux_unit (def  1e3) -> TeV \n",
    "parser.add_argument('--funits', default=1e3)\n",
    "#bg_trials_fname (def None)\n",
    "parser.add_argument('--trfile', default=None)\n",
    "#do_find_sens (bool)\n",
    "parser.add_argument('-s', '--sens', action='store_true')\n",
    "#do_find_disc (bool)\n",
    "parser.add_argument('-d', '--disc', action='store_true')"
   ]
  },
  {
   "cell_type": "code",
   "execution_count": 2,
   "metadata": {},
   "outputs": [],
   "source": [
    "#Open Catalog fits file\n",
    "fits_1fle = fits.open('./1fle.fits')\n",
    "#Get Column Names\n",
    "cols = fits_1fle[1].data.columns.names\n",
    "#Extract Blazars\n",
    "b_mask = (fits_1fle[1].data['CLASS1'] == 'bll') | (fits_1fle[1].data['CLASS1'] == 'fsrq')\n",
    "blaz_1fle = fits_1fle[1].data[b_mask]\n",
    "\n",
    "#29 BL LACs -> seems like 2 were changed to FSRQ from paper\n",
    "#102 FSRQs -> 2 from BL LAC and 2 from Unclassified from paper\n",
    "#131 sources total\n",
    "\n",
    "#Make into dictionary\n",
    "data = {}\n",
    "for n in cols:\n",
    "    data[n] = blaz_1fle.field(n)\n",
    "#Close Fits file\n",
    "fits_1fle.close()"
   ]
  },
  {
   "cell_type": "code",
   "execution_count": 37,
   "metadata": {},
   "outputs": [
    {
     "ename": "NameError",
     "evalue": "name 'data_save' is not defined",
     "output_type": "error",
     "traceback": [
      "\u001b[0;31m---------------------------------------------------------------------------\u001b[0m",
      "\u001b[0;31mNameError\u001b[0m                                 Traceback (most recent call last)",
      "\u001b[0;32m<ipython-input-37-0a674d6451b9>\u001b[0m in \u001b[0;36m<module>\u001b[0;34m\u001b[0m\n\u001b[1;32m      1\u001b[0m \u001b[0;31m#Save source list with all data as CSV and Text Files\u001b[0m\u001b[0;34m\u001b[0m\u001b[0;34m\u001b[0m\u001b[0;34m\u001b[0m\u001b[0m\n\u001b[0;32m----> 2\u001b[0;31m \u001b[0;32mif\u001b[0m \u001b[0mdata_save\u001b[0m \u001b[0;34m==\u001b[0m \u001b[0;34m'csv'\u001b[0m\u001b[0;34m:\u001b[0m\u001b[0;34m\u001b[0m\u001b[0;34m\u001b[0m\u001b[0m\n\u001b[0m\u001b[1;32m      3\u001b[0m     \u001b[0mpd\u001b[0m\u001b[0;34m.\u001b[0m\u001b[0mDataFrame\u001b[0m\u001b[0;34m.\u001b[0m\u001b[0mfrom_dict\u001b[0m\u001b[0;34m(\u001b[0m\u001b[0mdata\u001b[0m\u001b[0;34m)\u001b[0m\u001b[0;34m.\u001b[0m\u001b[0mto_csv\u001b[0m\u001b[0;34m(\u001b[0m\u001b[0;34m'./1FLE_Blazars_Data.csv'\u001b[0m\u001b[0;34m)\u001b[0m\u001b[0;34m\u001b[0m\u001b[0;34m\u001b[0m\u001b[0m\n\u001b[1;32m      4\u001b[0m \u001b[0;32melif\u001b[0m \u001b[0mdata_save\u001b[0m \u001b[0;34m==\u001b[0m \u001b[0;34m'txt'\u001b[0m\u001b[0;34m:\u001b[0m\u001b[0;34m\u001b[0m\u001b[0;34m\u001b[0m\u001b[0m\n\u001b[1;32m      5\u001b[0m     \u001b[0mf\u001b[0m \u001b[0;34m=\u001b[0m \u001b[0mopen\u001b[0m\u001b[0;34m(\u001b[0m\u001b[0;34m\"1FLE_Blazars_Data.txt\"\u001b[0m\u001b[0;34m,\u001b[0m\u001b[0;34m\"w\"\u001b[0m\u001b[0;34m)\u001b[0m\u001b[0;34m\u001b[0m\u001b[0;34m\u001b[0m\u001b[0m\n",
      "\u001b[0;31mNameError\u001b[0m: name 'data_save' is not defined"
     ]
    }
   ],
   "source": [
    "#Save source list with all data as CSV and Text Files\n",
    "if data_save == 'csv':\n",
    "    pd.DataFrame.from_dict(data).to_csv('/data/user/mcampana/analysis/Blazar_1FLE/1FLE_Blazars_Data.csv')\n",
    "elif data_save == 'txt':\n",
    "    f = open(\"/data/user/mcampana/analysis/Blazar_1FLE/1FLE_Blazars_Data.txt\",\"w\")\n",
    "    f.write(str(data))\n",
    "    f.close()\n",
    "else:\n",
    "    pass"
   ]
  },
  {
   "cell_type": "code",
   "execution_count": 13,
   "metadata": {},
   "outputs": [],
   "source": [
    "#Weighting schemes\n",
    "num_blaz = len(data['Name'])\n",
    "#print(num_blaz)\n",
    "\n",
    "#Equal weighting\n",
    "eq_w = np.ones(num_blaz) / num_blaz\n",
    "\n",
    "#Flux Weighting (integral energy flux 30-100MeV)\n",
    "flux_w = np.copy(data['EF30-100'])\n",
    "\n",
    "if weighting_scheme == 'equal':\n",
    "    src_weights = eq_w\n",
    "elif weighting_scheme == 'flux':\n",
    "    src_weights = flux_w\n",
    "else:\n",
    "    raise NameError('Weighting scheme \"{}\" not accepted. Please use \"equal\" or \"flux\". '.format(weighting_scheme))"
   ]
  },
  {
   "cell_type": "code",
   "execution_count": 83,
   "metadata": {},
   "outputs": [],
   "source": [
    "#Plot the Flux weight PDF\n",
    "if plot_flux_pdf:\n",
    "    plt.figure(figsize=(6,4))\n",
    "    plt.hist(flux_w, bins='auto', histtype='step', linewidth=2)\n",
    "    plt.xlabel(\"Energy Flux from 30-100 MeV [erg /cm^2 /s]\")\n",
    "    plt.ylabel(\"Weight [Counts]\")\n",
    "    plt.title(\"Energy Flux PDF for 1FLE Blazars\")\n",
    "    plt.savefig('/data/user/mcampana/analysis/Blazar_1FLE/plots/EnergyFlux_30-100MeV_PDF_seed{}_{}.png'.format(seed, today_date))\n",
    "    plt.close()\n",
    "    "
   ]
  },
  {
   "cell_type": "code",
   "execution_count": 20,
   "metadata": {},
   "outputs": [],
   "source": [
    "#Data selection\n",
    "selection = cy.selections.PSDataSpecs.ps_10yr"
   ]
  },
  {
   "cell_type": "code",
   "execution_count": 21,
   "metadata": {},
   "outputs": [
    {
     "name": "stdout",
     "output_type": "stream",
     "text": [
      "Setting up Analysis for:\n",
      "IC86_2011\n",
      "Setting up IC86_2011...\n",
      "Reading /data/ana/analyses/ps_tracks/current/IC86_2011_MC.npy ...\n",
      "Reading /data/ana/analyses/ps_tracks/current/IC86_2011_exp.npy ...\n",
      "Reading /data/ana/analyses/ps_tracks/current/GRL/IC86_2011_exp.npy ...\n",
      "<- /data/user/mcampana/analysis/Blazar_1FLE/IC86_2011.subanalysis.npy    \n",
      "Done.\n"
     ]
    }
   ],
   "source": [
    "#Create analysis with data selection (saved in working dir)\n",
    "\n",
    "#ana = cy.get_analysis(cy.selections.repo, selection)\n",
    "#ana.save('./')\n",
    "\n",
    "#ana = cy.get_analysis(cy.selections.repo, selection, dir='/data/user/mcampana/analysis/Blazar_1FLE')\n",
    "\n",
    "#2011 only; for testing\n",
    "ana = cy.get_analysis(cy.selections.repo, cy.selections.PSDataSpecs.ps_2011, dir='/data/user/mcampana/analysis/Blazar_1FLE')"
   ]
  },
  {
   "cell_type": "code",
   "execution_count": 18,
   "metadata": {},
   "outputs": [],
   "source": [
    "#Provide source locations\n",
    "srcs = cy.utils.Sources(ra=data['RAdeg'], dec=data['DEdeg'], deg=True, weight=src_weights)"
   ]
  },
  {
   "cell_type": "code",
   "execution_count": 22,
   "metadata": {},
   "outputs": [
    {
     "name": "stdout",
     "output_type": "stream",
     "text": [
      "IC86_2011                                100%.     \n"
     ]
    }
   ],
   "source": [
    "#Get Trials RUnner\n",
    "tr = cy.get_trial_runner(src=srcs, ana=ana, flux=cy.hyp.PowerLawFlux(gamma))"
   ]
  },
  {
   "cell_type": "code",
   "execution_count": 23,
   "metadata": {},
   "outputs": [
    {
     "name": "stdout",
     "output_type": "stream",
     "text": [
      "Performing 200 background trials using 5 cores:\n",
      "        200/200 trials complete.   \n"
     ]
    }
   ],
   "source": [
    "#Do BG Trials\n",
    "if do_bg_trials:\n",
    "    trials = tr.get_many_fits(num_trials, seed=seed)\n",
    "    #Save Trials to numpy array file\n",
    "    save_trials_fname = '/data/user/mcampana/analysis/Blazar_1FLE/trials/BG_{}trials_{}weight_gamma{}_10yrPStracks_1FLEblazars_seed{}_{}.npy'.format(num_trials, weighting_scheme, gamma, seed, today_date)\n",
    "    np.save(save_trials_fname, trials.as_array)\n",
    "    print(\"Trials saved ->\", save_trials_fname)\n",
    "    \n",
    "    #Get and save BG Chi2 info\n",
    "    bg_chi2 = cy.dists.Chi2TSD(trials)\n",
    "    save_bgchi2_fname = \"/data/user/mcampana/analysis/Blazar_1FLE/trials/DescBG_{}trials_{}weight_gamma{}_10yrPStracks_1FLEblazars_seed{}_{}.txt\".format(num_trials, weighting_scheme, gamma, seed, today_date)\n",
    "    f = open(save_bgchi2_fname,\"w\")\n",
    "    f.write(bg_chi2.description)\n",
    "    f.close()\n",
    "    print(\"Background Chi2 info saved ->\", save_bgchi2_fname)\n",
    "elif bg_trials_fname != None:\n",
    "    trials = np.load(bg_trials_fname)\n",
    "    trials = cy.utils.Arrays(trials)\n",
    "    bg_chi2 = cy.dists.Chi2TSD(trials)\n",
    "    print('Loaded trials from <-', bg_trials_fname)\n",
    "else:\n",
    "    raise ValueError('No trials run or given!')"
   ]
  },
  {
   "cell_type": "code",
   "execution_count": 14,
   "metadata": {},
   "outputs": [
    {
     "data": {
      "image/png": "[encoded data removed]",
      "text/plain": [
       "<Figure size 432x288 with 1 Axes>"
      ]
     },
     "metadata": {
      "needs_background": "light"
     },
     "output_type": "display_data"
    }
   ],
   "source": [
    "#Plot TS and chi2 distribution\n",
    "if plot_TSchi2:\n",
    "    fig, ax = plt.subplots()\n",
    "\n",
    "    h = bg_chi2.get_hist(bins=30)\n",
    "    hl.plot1d(ax, h, crosses=True, label='{} bg trials'.format(bg_chi2.n_total))\n",
    "\n",
    "    x = h.centers[0]\n",
    "    norm = h.integrate().values\n",
    "    ax.semilogy(x, norm * bg_chi2.pdf(x), lw=1, ls='--',\n",
    "                label='Chi2 fit: {} dof, eta={}'.format(np.round(bg_chi2.ndof,2), bg_chi2.eta))\n",
    "\n",
    "    ax.set_xlabel('TS')\n",
    "    ax.set_ylabel('number of trials')\n",
    "    ax.legend()\n",
    "    plt.tight_layout()\n",
    "    plt.savefig('/data/user/mcampana/analysis/Blazar_1FLE/plots/Chi2TS_{}trials_{}weighting_gamma{}_10yrPStracks_1FLEblazars_seed{}_{}.png'.format(num_trials, weighting_scheme, gamma, seed, today_date))\n",
    "    plt.close()"
   ]
  },
  {
   "cell_type": "code",
   "execution_count": 32,
   "metadata": {},
   "outputs": [
    {
     "name": "stdout",
     "output_type": "stream",
     "text": [
      "Start time: 2020-09-30 11:47:11.657610\n",
      "Using 5 cores.\n",
      "* Starting initial scan for 90% of 20 trials with TS >= 0.089...\n",
      "  n_sig = 10.000 ... frac = 0.90000\n",
      "* Generating batches of 200 trials...\n",
      "n_trials | n_inj    0.00    4.00    8.00   12.00   16.00   20.00  |  n_sig(relative error)\n",
      "200      |         48.5%   75.5%   87.5%   95.5%   95.5%   98.5%  |      8.963 (+/-  9.5%) [spline]\n",
      "End time: 2020-09-30 11:49:51.684334\n",
      "Elapsed time: 0:02:40.026724\n"
     ]
    }
   ],
   "source": [
    "#Sensitivity\n",
    "if do_find_sens:\n",
    "    sens = tr.find_n_sig(\n",
    "            bg_chi2.median(), 0.9,\n",
    "            n_sig_step=n_sig_step,\n",
    "            first_batch_size=first_batch_size,\n",
    "            batch_size=batch_size,\n",
    "            # 10% tolerance -- let's get an estimate quick!\n",
    "            tol=tol,\n",
    "            n_batches=n_batches,\n",
    "            seed=seed\n",
    "        )\n",
    "\n",
    "    flux_sens = tr.to_E2dNdE(sens, E0=ref_E, unit=flux_unit)   # TeV/cm2/s  @  100TeV\n",
    "\n",
    "    sens['info']['flux_sens'] = flux_sens\n",
    "    sens['info']['inj_gamma'] = gamma\n",
    "    sens['info']['flux_E0'] = ref_E\n",
    "    sens['info']['flux_Eunit'] = flux_unit\n",
    "\n",
    "    save_sens_fname = '/data/user/mcampana/analysis/Blazar_1FLE/sens_disc/SensInfo_{}trials_{}weighting_gamma{}_10yrPStracks_1FLEblazars_seed{}_{}.csv'.format(num_trials, weighting_scheme, gamma, seed, today_date)\n",
    "    pd.DataFrame.from_dict(sens['info']).to_csv(save_sens_fname)\n",
    "    print(\"Sensitivity info saved ->\", save_sens_fname)"
   ]
  },
  {
   "cell_type": "code",
   "execution_count": 16,
   "metadata": {},
   "outputs": [
    {
     "name": "stdout",
     "output_type": "stream",
     "text": [
      "Start time: 2020-09-28 17:17:28.684954\n",
      "Using 5 cores.\n",
      "* Starting initial scan for 50% of 20 trials with TS >= 28.420...\n",
      "  n_sig = 10.000 ... frac = 0.00000\n",
      "  n_sig = 20.000 ... frac = 0.20000\n",
      "  n_sig = 30.000 ... frac = 0.35000\n",
      "  n_sig = 40.000 ... frac = 0.75000\n",
      "* Generating batches of 200 trials...\n",
      "n_trials | n_inj    0.00   16.00   32.00   48.00   64.00   80.00  |  n_sig(relative error)\n",
      "200      |          0.0%    3.0%   51.5%   86.5%   99.5%  100.0%  |     31.437 (+/-  3.6%) [spline]\n",
      "End time: 2020-09-28 17:21:57.770703\n",
      "Elapsed time: 0:04:29.085749\n"
     ]
    }
   ],
   "source": [
    "#Discovery Potential\n",
    "\n",
    "if do_find_sens:\n",
    "    disc = tr.find_n_sig(\n",
    "            bg_chi2.isf_nsigma(5), 0.5, \n",
    "            n_sig_step=n_sig_step,\n",
    "            first_batch_size=first_batch_size,\n",
    "            batch_size=batch_size, \n",
    "            tol=tol,\n",
    "            n_batches=n_batches,\n",
    "            seed=seed\n",
    "        )\n",
    "\n",
    "    flux_disc = tr.to_E2dNdE(disc, E0=ref_E, unit=flux_unit)   # TeV/cm2/s  @  100TeV\n",
    "\n",
    "    disc['info']['flux_sens'] = flux_sens\n",
    "    disc['info']['inj_gamma'] = gamma\n",
    "    disc['info']['flux_E0'] = ref_E\n",
    "    disc['info']['flux_Eunit'] = flux_unit\n",
    "\n",
    "    save_disc_fname = '/data/user/mcampana/analysis/Blazar_1FLE/sens_disc/DiscInfo_{}trials_{}weighting_gamma{}_10yrPStracks_1FLEblazars_seed{}_{}.csv'.format(num_trials, weighting_scheme, gamma, seed, today_date)\n",
    "    pd.DataFrame.from_dict(disc['info']).to_csv(save_disc_fname)\n",
    "    print(\"Discovery potential info saved ->\", save_disc_fname)"
   ]
  },
  {
   "cell_type": "code",
   "execution_count": 20,
   "metadata": {},
   "outputs": [],
   "source": [
    "#Doing Bias tests:\n",
    "if do_bias_test:\n",
    "    n_sigs = np.r_[:101:10]\n",
    "    trials = [tr.get_many_fits(100, n_sig=n_sig, logging=False, seed=n_sig) for n_sig in n_sigs]\n",
    "    for (n_sig, t) in zip(n_sigs, trials):\n",
    "        t['ntrue'] = np.repeat(n_sig, len(t))\n",
    "\n",
    "    allt = cy.utils.Arrays.concatenate(trials)\n",
    "\n",
    "    fig, axs = plt.subplots(1, 2, figsize=(6,3))\n",
    "\n",
    "    dns = np.mean(np.diff(n_sigs))\n",
    "    ns_bins = np.r_[n_sigs - 0.5*dns, n_sigs[-1] + 0.5*dns]\n",
    "    expect_kw = dict(color='C0', ls='--', lw=1, zorder=-10)\n",
    "    expect_gamma = tr.sig_injs[0].flux[0].gamma\n",
    "\n",
    "    ax = axs[0]\n",
    "    h = hl.hist((allt.ntrue, allt.ns), bins=(ns_bins, 100))\n",
    "    hl.plot1d(ax, h.contain_project(1),errorbands=True, drawstyle='default')\n",
    "\n",
    "    lim = ns_bins[[0, -1]]\n",
    "    ax.set_xlim(ax.set_ylim(lim))\n",
    "    ax.plot(lim, lim, **expect_kw)\n",
    "    ax.set_aspect('equal')\n",
    "\n",
    "\n",
    "    ax = axs[1]\n",
    "    h = hl.hist((allt.ntrue, allt.gamma), bins=(ns_bins, 100))\n",
    "    hl.plot1d(ax, h.contain_project(1),errorbands=True, drawstyle='default')\n",
    "    ax.axhline(expect_gamma, **expect_kw)\n",
    "    ax.set_xlim(axs[0].get_xlim())\n",
    "\n",
    "    for ax in axs:\n",
    "        ax.set_xlabel('n_inj')\n",
    "        ax.grid()\n",
    "    axs[0].set_ylabel('n_s')\n",
    "    axs[1].set_ylabel('gamma')\n",
    "\n",
    "    plt.tight_layout()\n",
    "    plt.savefig('/data/user/mcampana/analysis/Blazar_1FLE/plots/BiasTest_{}weighting_gamma{}_10yrPStracks_1FLEblazars_seed{}_{}.png'.format(weighting_scheme, gamma, seed, today_date))\n",
    "    plt.close()"
   ]
  },
  {
   "cell_type": "code",
   "execution_count": null,
   "metadata": {},
   "outputs": [],
   "source": [
    "print('===========================')\n",
    "print('===== Script Finished =====')"
   ]
  }
 ],
 "metadata": {
  "kernelspec": {
   "display_name": "Python 3",
   "language": "python",
   "name": "python3"
  },
  "language_info": {
   "codemirror_mode": {
    "name": "ipython",
    "version": 3
   },
   "file_extension": ".py",
   "mimetype": "text/x-python",
   "name": "python",
   "nbconvert_exporter": "python",
   "pygments_lexer": "ipython3",
   "version": "3.6.8"
  }
 },
 "nbformat": 4,
 "nbformat_minor": 4
}
